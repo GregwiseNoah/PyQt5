{
 "cells": [
  {
   "cell_type": "code",
   "execution_count": 1,
   "id": "d6d0fac8-c70a-4abc-a567-8e2e195a2f09",
   "metadata": {},
   "outputs": [],
   "source": [
    " %gui qt\n",
    "import scipy\n",
    "import matplotlib.pyplot as plt\n",
    "import pandas as pd \n",
    "import numpy as np\n",
    "from scipy.io.matlab import mat_struct\n",
    "import h5py\n",
    "import pyqtgraph as pg\n",
    "# fwd_i = scipy.io.loadmat(\"Fwd_I.mat\")\n",
    "# trans_i = scipy.io.loadmat(\"Trans_I.mat\")\n",
    "\n",
    "\n",
    "                \n"
   ]
  },
  {
   "cell_type": "code",
   "execution_count": 4,
   "id": "47ad2570-3a82-4bcd-8e8f-60d44e3fe605",
   "metadata": {},
   "outputs": [],
   "source": [
    "fwd_q_data_times = pd.read_csv(\"fwd_q.csv\")\n",
    "#fwd_q_data.insert(0, \"time\", [0.0012, 0.0019, 0.0026, 0.0033, 0.0041, 0.0048, 0.0055])\n",
    "#fwd_q_data_times.insert(0, \"time\", [0.0012, 0.0019, 0.0026, 0.0033, 0.0041, 0.0048, 0.0055])\n",
    "\n",
    "\n"
   ]
  },
  {
   "cell_type": "code",
   "execution_count": 5,
   "id": "cc0fb766-790c-4fab-b807-a20b9f7269d0",
   "metadata": {},
   "outputs": [
    {
     "data": {
      "text/html": [
       "<div>\n",
       "<style scoped>\n",
       "    .dataframe tbody tr th:only-of-type {\n",
       "        vertical-align: middle;\n",
       "    }\n",
       "\n",
       "    .dataframe tbody tr th {\n",
       "        vertical-align: top;\n",
       "    }\n",
       "\n",
       "    .dataframe thead th {\n",
       "        text-align: right;\n",
       "    }\n",
       "</style>\n",
       "<table border=\"1\" class=\"dataframe\">\n",
       "  <thead>\n",
       "    <tr style=\"text-align: right;\">\n",
       "      <th></th>\n",
       "      <th>0</th>\n",
       "      <th>0.1</th>\n",
       "      <th>0.2</th>\n",
       "      <th>0.3</th>\n",
       "      <th>0.4</th>\n",
       "      <th>0.5</th>\n",
       "      <th>0.6</th>\n",
       "      <th>0.7</th>\n",
       "      <th>0.8</th>\n",
       "      <th>0.9</th>\n",
       "      <th>...</th>\n",
       "      <th>0.16374</th>\n",
       "      <th>0.16375</th>\n",
       "      <th>0.16376</th>\n",
       "      <th>0.16377</th>\n",
       "      <th>0.16378</th>\n",
       "      <th>0.16379</th>\n",
       "      <th>0.16380</th>\n",
       "      <th>0.16381</th>\n",
       "      <th>0.16382</th>\n",
       "      <th>0.16383</th>\n",
       "    </tr>\n",
       "  </thead>\n",
       "  <tbody>\n",
       "    <tr>\n",
       "      <th>0</th>\n",
       "      <td>0</td>\n",
       "      <td>0</td>\n",
       "      <td>0</td>\n",
       "      <td>0</td>\n",
       "      <td>0</td>\n",
       "      <td>0</td>\n",
       "      <td>0</td>\n",
       "      <td>0</td>\n",
       "      <td>0</td>\n",
       "      <td>0</td>\n",
       "      <td>...</td>\n",
       "      <td>0</td>\n",
       "      <td>0</td>\n",
       "      <td>0</td>\n",
       "      <td>0</td>\n",
       "      <td>0</td>\n",
       "      <td>0</td>\n",
       "      <td>0</td>\n",
       "      <td>0</td>\n",
       "      <td>0</td>\n",
       "      <td>0</td>\n",
       "    </tr>\n",
       "    <tr>\n",
       "      <th>1</th>\n",
       "      <td>0</td>\n",
       "      <td>0</td>\n",
       "      <td>0</td>\n",
       "      <td>0</td>\n",
       "      <td>0</td>\n",
       "      <td>0</td>\n",
       "      <td>0</td>\n",
       "      <td>0</td>\n",
       "      <td>0</td>\n",
       "      <td>0</td>\n",
       "      <td>...</td>\n",
       "      <td>-508</td>\n",
       "      <td>2034</td>\n",
       "      <td>-1037</td>\n",
       "      <td>-1251</td>\n",
       "      <td>1985</td>\n",
       "      <td>-251</td>\n",
       "      <td>-1794</td>\n",
       "      <td>1602</td>\n",
       "      <td>574</td>\n",
       "      <td>-2053</td>\n",
       "    </tr>\n",
       "    <tr>\n",
       "      <th>2</th>\n",
       "      <td>963</td>\n",
       "      <td>1303</td>\n",
       "      <td>-1972</td>\n",
       "      <td>171</td>\n",
       "      <td>1822</td>\n",
       "      <td>-1563</td>\n",
       "      <td>-649</td>\n",
       "      <td>2051</td>\n",
       "      <td>-903</td>\n",
       "      <td>-1367</td>\n",
       "      <td>...</td>\n",
       "      <td>870</td>\n",
       "      <td>1378</td>\n",
       "      <td>-1938</td>\n",
       "      <td>68</td>\n",
       "      <td>1866</td>\n",
       "      <td>-1494</td>\n",
       "      <td>-747</td>\n",
       "      <td>2054</td>\n",
       "      <td>-813</td>\n",
       "      <td>-1441</td>\n",
       "    </tr>\n",
       "    <tr>\n",
       "      <th>3</th>\n",
       "      <td>1901</td>\n",
       "      <td>-2</td>\n",
       "      <td>-1905</td>\n",
       "      <td>1433</td>\n",
       "      <td>807</td>\n",
       "      <td>-2066</td>\n",
       "      <td>733</td>\n",
       "      <td>1484</td>\n",
       "      <td>-1882</td>\n",
       "      <td>-81</td>\n",
       "      <td>...</td>\n",
       "      <td>1859</td>\n",
       "      <td>101</td>\n",
       "      <td>-1944</td>\n",
       "      <td>1356</td>\n",
       "      <td>898</td>\n",
       "      <td>-2061</td>\n",
       "      <td>637</td>\n",
       "      <td>1553</td>\n",
       "      <td>-1835</td>\n",
       "      <td>-183</td>\n",
       "    </tr>\n",
       "    <tr>\n",
       "      <th>4</th>\n",
       "      <td>1958</td>\n",
       "      <td>-1307</td>\n",
       "      <td>-974</td>\n",
       "      <td>2045</td>\n",
       "      <td>-574</td>\n",
       "      <td>-1609</td>\n",
       "      <td>1791</td>\n",
       "      <td>250</td>\n",
       "      <td>-1988</td>\n",
       "      <td>1240</td>\n",
       "      <td>...</td>\n",
       "      <td>1985</td>\n",
       "      <td>-1226</td>\n",
       "      <td>-1062</td>\n",
       "      <td>2032</td>\n",
       "      <td>-474</td>\n",
       "      <td>-1671</td>\n",
       "      <td>1737</td>\n",
       "      <td>350</td>\n",
       "      <td>-2014</td>\n",
       "      <td>1157</td>\n",
       "    </tr>\n",
       "  </tbody>\n",
       "</table>\n",
       "<p>5 rows × 16384 columns</p>\n",
       "</div>"
      ],
      "text/plain": [
       "      0   0.1   0.2   0.3   0.4   0.5   0.6   0.7   0.8   0.9  ...  0.16374  \\\n",
       "0     0     0     0     0     0     0     0     0     0     0  ...        0   \n",
       "1     0     0     0     0     0     0     0     0     0     0  ...     -508   \n",
       "2   963  1303 -1972   171  1822 -1563  -649  2051  -903 -1367  ...      870   \n",
       "3  1901    -2 -1905  1433   807 -2066   733  1484 -1882   -81  ...     1859   \n",
       "4  1958 -1307  -974  2045  -574 -1609  1791   250 -1988  1240  ...     1985   \n",
       "\n",
       "   0.16375  0.16376  0.16377  0.16378  0.16379  0.16380  0.16381  0.16382  \\\n",
       "0        0        0        0        0        0        0        0        0   \n",
       "1     2034    -1037    -1251     1985     -251    -1794     1602      574   \n",
       "2     1378    -1938       68     1866    -1494     -747     2054     -813   \n",
       "3      101    -1944     1356      898    -2061      637     1553    -1835   \n",
       "4    -1226    -1062     2032     -474    -1671     1737      350    -2014   \n",
       "\n",
       "   0.16383  \n",
       "0        0  \n",
       "1    -2053  \n",
       "2    -1441  \n",
       "3     -183  \n",
       "4     1157  \n",
       "\n",
       "[5 rows x 16384 columns]"
      ]
     },
     "execution_count": 5,
     "metadata": {},
     "output_type": "execute_result"
    }
   ],
   "source": [
    "fwd_q_data_times.head()"
   ]
  },
  {
   "cell_type": "code",
   "execution_count": 12,
   "id": "b9f2dc53-4cbe-4c52-847d-15f158032bc6",
   "metadata": {},
   "outputs": [
    {
     "data": {
      "text/plain": [
       "<pyqtgraph.widgets.PlotWidget.PlotWidget at 0x26ebbf288c0>"
      ]
     },
     "execution_count": 12,
     "metadata": {},
     "output_type": "execute_result"
    }
   ],
   "source": [
    "#trying to plot between 19 and 26 milliseconds\n",
    "# I can just directly plot it by assigning times in between 26 and 19\n",
    "\n",
    "times = np.linspace(0.0019, 0.0026, 16384)\n",
    "fwd_q = fwd_q_data.loc[4].to_numpy()\n",
    "#fwd_q\n",
    "#np.save('fwd_q_19', fwd_q)\n",
    "\n",
    "pg.plot(times[1:500], fwd_q[1:500])\n"
   ]
  },
  {
   "cell_type": "code",
   "execution_count": 7,
   "id": "7efd0d68-4f73-4410-9dcf-2c50149f5500",
   "metadata": {},
   "outputs": [
    {
     "data": {
      "text/plain": [
       "array([ 4.100e-03,  1.958e+03, -1.307e+03, ...,  3.500e+02, -2.014e+03,\n",
       "        1.157e+03])"
      ]
     },
     "execution_count": 7,
     "metadata": {},
     "output_type": "execute_result"
    }
   ],
   "source": [
    "a = np.load('fwd_q_19.npy')\n",
    "a"
   ]
  },
  {
   "cell_type": "code",
   "execution_count": 13,
   "id": "e41d124c-adf3-403f-b484-ced4e26f6802",
   "metadata": {},
   "outputs": [
    {
     "ename": "NameError",
     "evalue": "name 'a' is not defined",
     "output_type": "error",
     "traceback": [
      "\u001b[1;31m---------------------------------------------------------------------------\u001b[0m",
      "\u001b[1;31mNameError\u001b[0m                                 Traceback (most recent call last)",
      "Cell \u001b[1;32mIn[13], line 1\u001b[0m\n\u001b[1;32m----> 1\u001b[0m \u001b[38;5;28mmax\u001b[39m(a)\n",
      "\u001b[1;31mNameError\u001b[0m: name 'a' is not defined"
     ]
    }
   ],
   "source": [
    "max(a)"
   ]
  },
  {
   "cell_type": "code",
   "execution_count": null,
   "id": "fd38197c-d563-47ba-b25c-8d812277fc37",
   "metadata": {},
   "outputs": [],
   "source": [
    "# #times = np.linspace(0.0019, 0.0026, 16384)\n",
    "# test = float(times[1] - 0.0019)\n",
    "# test\n",
    "\n",
    "fwd_i_data = pd.read_csv(\"fwd_i.csv\")\n",
    "fwd_i_data\n"
   ]
  },
  {
   "cell_type": "code",
   "execution_count": null,
   "id": "208943f2-afa4-4b3a-8d87-a227935ce417",
   "metadata": {},
   "outputs": [],
   "source": []
  },
  {
   "cell_type": "code",
   "execution_count": 14,
   "id": "b83a8da9-aa84-4812-b3e7-5253a1284062",
   "metadata": {},
   "outputs": [],
   "source": [
    "fwd_i_data = pd.read_csv(\"fwd_i.csv\")\n",
    "fwd_i = fwd_i_data.loc[1].to_numpy()\n",
    "#np.save('fwd_i_19', fwd_i)\n",
    "\n",
    "fwd_q_data = pd.read_csv(\"fwd_q.csv\")\n",
    "fwd_q = fwd_q_data.loc[1].to_numpy()\n",
    "#np.save('fwd_q_19', fwd_q)\n"
   ]
  },
  {
   "cell_type": "code",
   "execution_count": 15,
   "id": "02bd7925-9e06-43db-a201-7974ce11790b",
   "metadata": {},
   "outputs": [],
   "source": [
    "trans_i_data = pd.read_csv(\"trans_i.csv\")\n",
    "trans_i = trans_i_data.loc[1].to_numpy()\n",
    "#np.save('trans_i_19', trans_i)\n",
    "trans_q_data = pd.read_csv(\"trans_q.csv\")\n",
    "trans_q = trans_q_data.loc[1].to_numpy()\n",
    "#np.save('trans_q_19', trans_q)"
   ]
  },
  {
   "cell_type": "code",
   "execution_count": 16,
   "id": "b9c48797-b095-4e6a-a387-dd33bd3f7960",
   "metadata": {},
   "outputs": [
    {
     "data": {
      "text/plain": [
       "16384"
      ]
     },
     "execution_count": 16,
     "metadata": {},
     "output_type": "execute_result"
    }
   ],
   "source": [
    "len(fwd_q)"
   ]
  },
  {
   "cell_type": "code",
   "execution_count": 19,
   "id": "cc72c4f3-9062-4d79-b014-92a6215007e0",
   "metadata": {},
   "outputs": [],
   "source": [
    "fwd_r = fwd_q[:]*np.cos(2*np.pi*times) + fwd_i[:]*np.sin(2*np.pi*times)\n",
    "fwd_r_fft = scipy.fft.fft(fwd_r)\n",
    "frequencies = scipy.fft.fftfreq(np.size(times), 44.44e-6)\n",
    "\n",
    "plot = pg.plot(frequencies, abs(fwd_r_fft)).setLogMode(False, True)"
   ]
  },
  {
   "cell_type": "code",
   "execution_count": 21,
   "id": "c03a3be2-3125-473f-bb0e-53057c5f938f",
   "metadata": {},
   "outputs": [
    {
     "data": {
      "text/html": [
       "<div>\n",
       "<style scoped>\n",
       "    .dataframe tbody tr th:only-of-type {\n",
       "        vertical-align: middle;\n",
       "    }\n",
       "\n",
       "    .dataframe tbody tr th {\n",
       "        vertical-align: top;\n",
       "    }\n",
       "\n",
       "    .dataframe thead th {\n",
       "        text-align: right;\n",
       "    }\n",
       "</style>\n",
       "<table border=\"1\" class=\"dataframe\">\n",
       "  <thead>\n",
       "    <tr style=\"text-align: right;\">\n",
       "      <th></th>\n",
       "      <th>0</th>\n",
       "      <th>0.1</th>\n",
       "      <th>0.2</th>\n",
       "      <th>0.3</th>\n",
       "      <th>0.4</th>\n",
       "      <th>0.5</th>\n",
       "      <th>0.6</th>\n",
       "      <th>0.7</th>\n",
       "      <th>0.8</th>\n",
       "      <th>0.9</th>\n",
       "      <th>...</th>\n",
       "      <th>0.16374</th>\n",
       "      <th>0.16375</th>\n",
       "      <th>0.16376</th>\n",
       "      <th>0.16377</th>\n",
       "      <th>0.16378</th>\n",
       "      <th>0.16379</th>\n",
       "      <th>0.16380</th>\n",
       "      <th>0.16381</th>\n",
       "      <th>0.16382</th>\n",
       "      <th>0.16383</th>\n",
       "    </tr>\n",
       "  </thead>\n",
       "  <tbody>\n",
       "    <tr>\n",
       "      <th>0</th>\n",
       "      <td>0</td>\n",
       "      <td>0</td>\n",
       "      <td>0</td>\n",
       "      <td>0</td>\n",
       "      <td>0</td>\n",
       "      <td>0</td>\n",
       "      <td>0</td>\n",
       "      <td>0</td>\n",
       "      <td>0</td>\n",
       "      <td>0</td>\n",
       "      <td>...</td>\n",
       "      <td>0</td>\n",
       "      <td>0</td>\n",
       "      <td>0</td>\n",
       "      <td>0</td>\n",
       "      <td>0</td>\n",
       "      <td>0</td>\n",
       "      <td>0</td>\n",
       "      <td>0</td>\n",
       "      <td>0</td>\n",
       "      <td>0</td>\n",
       "    </tr>\n",
       "    <tr>\n",
       "      <th>1</th>\n",
       "      <td>0</td>\n",
       "      <td>0</td>\n",
       "      <td>0</td>\n",
       "      <td>0</td>\n",
       "      <td>0</td>\n",
       "      <td>0</td>\n",
       "      <td>0</td>\n",
       "      <td>0</td>\n",
       "      <td>0</td>\n",
       "      <td>0</td>\n",
       "      <td>...</td>\n",
       "      <td>285</td>\n",
       "      <td>-354</td>\n",
       "      <td>-70</td>\n",
       "      <td>363</td>\n",
       "      <td>-236</td>\n",
       "      <td>-203</td>\n",
       "      <td>386</td>\n",
       "      <td>-80</td>\n",
       "      <td>-305</td>\n",
       "      <td>343</td>\n",
       "    </tr>\n",
       "    <tr>\n",
       "      <th>2</th>\n",
       "      <td>86</td>\n",
       "      <td>-360</td>\n",
       "      <td>238</td>\n",
       "      <td>234</td>\n",
       "      <td>-361</td>\n",
       "      <td>90</td>\n",
       "      <td>341</td>\n",
       "      <td>-304</td>\n",
       "      <td>-73</td>\n",
       "      <td>390</td>\n",
       "      <td>...</td>\n",
       "      <td>87</td>\n",
       "      <td>-384</td>\n",
       "      <td>195</td>\n",
       "      <td>219</td>\n",
       "      <td>-387</td>\n",
       "      <td>42</td>\n",
       "      <td>320</td>\n",
       "      <td>-321</td>\n",
       "      <td>-114</td>\n",
       "      <td>372</td>\n",
       "    </tr>\n",
       "    <tr>\n",
       "      <th>3</th>\n",
       "      <td>-201</td>\n",
       "      <td>-251</td>\n",
       "      <td>363</td>\n",
       "      <td>-48</td>\n",
       "      <td>-349</td>\n",
       "      <td>292</td>\n",
       "      <td>108</td>\n",
       "      <td>-391</td>\n",
       "      <td>172</td>\n",
       "      <td>247</td>\n",
       "      <td>...</td>\n",
       "      <td>-176</td>\n",
       "      <td>-259</td>\n",
       "      <td>365</td>\n",
       "      <td>-21</td>\n",
       "      <td>-352</td>\n",
       "      <td>285</td>\n",
       "      <td>131</td>\n",
       "      <td>-388</td>\n",
       "      <td>156</td>\n",
       "      <td>262</td>\n",
       "    </tr>\n",
       "    <tr>\n",
       "      <th>4</th>\n",
       "      <td>-367</td>\n",
       "      <td>2</td>\n",
       "      <td>351</td>\n",
       "      <td>-283</td>\n",
       "      <td>-149</td>\n",
       "      <td>385</td>\n",
       "      <td>-148</td>\n",
       "      <td>-277</td>\n",
       "      <td>356</td>\n",
       "      <td>7</td>\n",
       "      <td>...</td>\n",
       "      <td>-358</td>\n",
       "      <td>-18</td>\n",
       "      <td>358</td>\n",
       "      <td>-268</td>\n",
       "      <td>-169</td>\n",
       "      <td>383</td>\n",
       "      <td>-134</td>\n",
       "      <td>-294</td>\n",
       "      <td>347</td>\n",
       "      <td>23</td>\n",
       "    </tr>\n",
       "    <tr>\n",
       "      <th>5</th>\n",
       "      <td>-372</td>\n",
       "      <td>250</td>\n",
       "      <td>172</td>\n",
       "      <td>-390</td>\n",
       "      <td>108</td>\n",
       "      <td>292</td>\n",
       "      <td>-346</td>\n",
       "      <td>-45</td>\n",
       "      <td>367</td>\n",
       "      <td>-244</td>\n",
       "      <td>...</td>\n",
       "      <td>-380</td>\n",
       "      <td>230</td>\n",
       "      <td>182</td>\n",
       "      <td>-393</td>\n",
       "      <td>86</td>\n",
       "      <td>300</td>\n",
       "      <td>-343</td>\n",
       "      <td>-69</td>\n",
       "      <td>371</td>\n",
       "      <td>-232</td>\n",
       "    </tr>\n",
       "    <tr>\n",
       "      <th>6</th>\n",
       "      <td>-210</td>\n",
       "      <td>379</td>\n",
       "      <td>-83</td>\n",
       "      <td>-320</td>\n",
       "      <td>326</td>\n",
       "      <td>74</td>\n",
       "      <td>-378</td>\n",
       "      <td>216</td>\n",
       "      <td>217</td>\n",
       "      <td>-378</td>\n",
       "      <td>...</td>\n",
       "      <td>-227</td>\n",
       "      <td>372</td>\n",
       "      <td>-67</td>\n",
       "      <td>-334</td>\n",
       "      <td>310</td>\n",
       "      <td>86</td>\n",
       "      <td>-392</td>\n",
       "      <td>191</td>\n",
       "      <td>226</td>\n",
       "      <td>-383</td>\n",
       "    </tr>\n",
       "  </tbody>\n",
       "</table>\n",
       "<p>7 rows × 16384 columns</p>\n",
       "</div>"
      ],
      "text/plain": [
       "     0  0.1  0.2  0.3  0.4  0.5  0.6  0.7  0.8  0.9  ...  0.16374  0.16375  \\\n",
       "0    0    0    0    0    0    0    0    0    0    0  ...        0        0   \n",
       "1    0    0    0    0    0    0    0    0    0    0  ...      285     -354   \n",
       "2   86 -360  238  234 -361   90  341 -304  -73  390  ...       87     -384   \n",
       "3 -201 -251  363  -48 -349  292  108 -391  172  247  ...     -176     -259   \n",
       "4 -367    2  351 -283 -149  385 -148 -277  356    7  ...     -358      -18   \n",
       "5 -372  250  172 -390  108  292 -346  -45  367 -244  ...     -380      230   \n",
       "6 -210  379  -83 -320  326   74 -378  216  217 -378  ...     -227      372   \n",
       "\n",
       "   0.16376  0.16377  0.16378  0.16379  0.16380  0.16381  0.16382  0.16383  \n",
       "0        0        0        0        0        0        0        0        0  \n",
       "1      -70      363     -236     -203      386      -80     -305      343  \n",
       "2      195      219     -387       42      320     -321     -114      372  \n",
       "3      365      -21     -352      285      131     -388      156      262  \n",
       "4      358     -268     -169      383     -134     -294      347       23  \n",
       "5      182     -393       86      300     -343      -69      371     -232  \n",
       "6      -67     -334      310       86     -392      191      226     -383  \n",
       "\n",
       "[7 rows x 16384 columns]"
      ]
     },
     "execution_count": 21,
     "metadata": {},
     "output_type": "execute_result"
    }
   ],
   "source": [
    "trans_qs = pd.read_csv(\"trans_q.csv\")\n",
    "trans_is = pd.read_csv(\"trans_i.csv\")\n",
    "\n",
    "trans_is"
   ]
  },
  {
   "cell_type": "code",
   "execution_count": 22,
   "id": "f4075628-94f8-4e1e-af80-91cdf3ecee2b",
   "metadata": {},
   "outputs": [],
   "source": [
    "trans_i = trans_is.loc[1].to_numpy()\n",
    "trans_q = trans_qs.loc[1].to_numpy()\n",
    "\n",
    "trans_r = trans_q*np.cos(2*np.pi*times) + trans_i*np.sin(2*np.pi*times)\n",
    "trans_fft = scipy.fft.fft(trans_r)\n",
    "freq_trans = scipy.fft.fftfreq(np.size(times), 44.44e-6)\n",
    "\n",
    "pg.plot(freq_trans, abs(trans_fft)).setLogMode(False, True)"
   ]
  },
  {
   "cell_type": "code",
   "execution_count": null,
   "id": "4519d003-b227-4ad7-8174-d5e1b9674d77",
   "metadata": {},
   "outputs": [],
   "source": []
  },
  {
   "cell_type": "code",
   "execution_count": 5,
   "id": "d5dbec19-aa1e-4db2-9156-7f0b115b7f6f",
   "metadata": {},
   "outputs": [],
   "source": [
    "from scipy import signal\n",
    "import numpy as np"
   ]
  },
  {
   "cell_type": "code",
   "execution_count": 44,
   "id": "406f51d4-11ab-4c7e-80bd-784fa42be4b7",
   "metadata": {},
   "outputs": [],
   "source": [
    "unsampled = np.linspace(-2*np.pi,2*np.pi, 10)\n",
    "sine = np.sin(unsampled)\n",
    "upsampled = signal.resample(sine, 600)"
   ]
  },
  {
   "cell_type": "code",
   "execution_count": 46,
   "id": "de8a1d02-5fe8-45cb-9fa0-b9e1a5c69535",
   "metadata": {},
   "outputs": [
    {
     "data": {
      "text/plain": [
       "[]"
      ]
     },
     "execution_count": 46,
     "metadata": {},
     "output_type": "execute_result"
    },
    {
     "data": {
      "image/png": "[encoded data removed]",
      "text/plain": [
       "<Figure size 640x480 with 1 Axes>"
      ]
     },
     "metadata": {},
     "output_type": "display_data"
    }
   ],
   "source": [
    "import matplotlib.pyplot as plt\n",
    "\n",
    "plt.plot( unsampled, np.sin(unsampled), label = \"original array with 10 values\")\n",
    "plt.plot( np.linspace(-2*np.pi,2*np.pi, 600), upsampled, label = \"Upsampled to 100\")\n",
    "plt.legend()\n",
    "plt.plot()"
   ]
  },
  {
   "cell_type": "code",
   "execution_count": 37,
   "id": "927823ef-1ee7-427c-bdcc-2957af85b048",
   "metadata": {
    "scrolled": true
   },
   "outputs": [
    {
     "name": "stdout",
     "output_type": "stream",
     "text": [
      "[-6.66133815e-17  2.75104853e-02  6.68201653e-02  1.17578523e-01\n",
      "  1.78708704e-01  2.48502602e-01  3.24758258e-01  4.04947456e-01\n",
      "  4.86399326e-01  5.66484844e-01  6.42787610e-01  7.13247935e-01\n",
      "  7.76270047e-01  8.30785727e-01  8.76271727e-01  9.12722371e-01\n",
      "  9.40582554e-01  9.60649526e-01  9.73954174e-01  9.81633701e-01\n",
      "  9.84807753e-01  9.84468986e-01  9.81397113e-01  9.76102731e-01\n",
      "  9.68804046e-01  9.59436266e-01  9.47690330e-01  9.33074928e-01\n",
      "  9.14993886e-01  8.92829885e-01  8.66025404e-01  8.34152615e-01\n",
      "  7.96965540e-01  7.54430060e-01  7.06729941e-01  6.54249695e-01\n",
      "  5.97537608e-01  5.37254207e-01  4.74112862e-01  4.08819745e-01\n",
      "  3.42020143e-01  2.74257126e-01  2.05946882e-01  1.37372961e-01\n",
      "  6.86993434e-02 -8.88178420e-17 -6.86993434e-02 -1.37372961e-01\n",
      " -2.05946882e-01 -2.74257126e-01 -3.42020143e-01 -4.08819745e-01\n",
      " -4.74112862e-01 -5.37254207e-01 -5.97537608e-01 -6.54249695e-01\n",
      " -7.06729941e-01 -7.54430060e-01 -7.96965540e-01 -8.34152615e-01\n",
      " -8.66025404e-01 -8.92829885e-01 -9.14993886e-01 -9.33074928e-01\n",
      " -9.47690330e-01 -9.59436266e-01 -9.68804046e-01 -9.76102731e-01\n",
      " -9.81397113e-01 -9.84468986e-01 -9.84807753e-01 -9.81633701e-01\n",
      " -9.73954174e-01 -9.60649526e-01 -9.40582554e-01 -9.12722371e-01\n",
      " -8.76271727e-01 -8.30785727e-01 -7.76270047e-01 -7.13247935e-01\n",
      " -6.42787610e-01 -5.66484844e-01 -4.86399326e-01 -4.04947456e-01\n",
      " -3.24758258e-01 -2.48502602e-01 -1.78708704e-01 -1.17578523e-01\n",
      " -6.68201653e-02 -2.75104853e-02 -8.88178420e-17  1.61310277e-02\n",
      "  2.20605023e-02  1.96561142e-02  1.13549881e-02  0.00000000e+00\n",
      " -1.13549881e-02 -1.96561142e-02 -2.20605023e-02 -1.61310277e-02]\n"
     ]
    }
   ],
   "source": [
    "print(upsampled)"
   ]
  },
  {
   "cell_type": "code",
   "execution_count": 38,
   "id": "4eac6dbb-fff3-456b-8aa8-f856e22bc7a3",
   "metadata": {},
   "outputs": [
    {
     "name": "stdout",
     "output_type": "stream",
     "text": [
      "[ 0.00000000e+00  6.42787610e-01  9.84807753e-01  8.66025404e-01\n",
      "  3.42020143e-01 -3.42020143e-01 -8.66025404e-01 -9.84807753e-01\n",
      " -6.42787610e-01 -2.44929360e-16]\n"
     ]
    }
   ],
   "source": [
    "print(sine)"
   ]
  },
  {
   "cell_type": "code",
   "execution_count": null,
   "id": "67047636-9c6f-4605-aaa4-a4d623771db8",
   "metadata": {},
   "outputs": [],
   "source": []
  }
 ],
 "metadata": {
  "kernelspec": {
   "display_name": "Python 3 (ipykernel)",
   "language": "python",
   "name": "python3"
  },
  "language_info": {
   "codemirror_mode": {
    "name": "ipython",
    "version": 3
   },
   "file_extension": ".py",
   "mimetype": "text/x-python",
   "name": "python",
   "nbconvert_exporter": "python",
   "pygments_lexer": "ipython3",
   "version": "3.12.4"
  }
 },
 "nbformat": 4,
 "nbformat_minor": 5
}
