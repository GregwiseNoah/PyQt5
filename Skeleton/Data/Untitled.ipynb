{
 "cells": [
  {
   "cell_type": "code",
   "execution_count": 44,
   "id": "d6d0fac8-c70a-4abc-a567-8e2e195a2f09",
   "metadata": {},
   "outputs": [],
   "source": [
    " %gui qt\n",
    "import scipy\n",
    "import matplotlib.pyplot as plt\n",
    "import pandas as pd \n",
    "import numpy as np\n",
    "from scipy.io.matlab import mat_struct\n",
    "import h5py\n",
    "import pyqtgraph as pg\n",
    "# fwd_i = scipy.io.loadmat(\"Fwd_I.mat\")\n",
    "# trans_i = scipy.io.loadmat(\"Trans_I.mat\")\n",
    "\n",
    "\n",
    "                \n"
   ]
  },
  {
   "cell_type": "code",
   "execution_count": 18,
   "id": "47ad2570-3a82-4bcd-8e8f-60d44e3fe605",
   "metadata": {},
   "outputs": [],
   "source": [
    "fwd_q_data_times = pd.read_csv(\"fwd_q.csv\")\n",
    "#fwd_q_data.insert(0, \"time\", [0.0012, 0.0019, 0.0026, 0.0033, 0.0041, 0.0048, 0.0055])\n",
    "fwd_q_data_times.insert(0, \"time\", [0.0012, 0.0019, 0.0026, 0.0033, 0.0041, 0.0048, 0.0055])\n",
    "\n",
    "\n"
   ]
  },
  {
   "cell_type": "code",
   "execution_count": 20,
   "id": "cc0fb766-790c-4fab-b807-a20b9f7269d0",
   "metadata": {},
   "outputs": [
    {
     "data": {
      "text/html": [
       "<div>\n",
       "<style scoped>\n",
       "    .dataframe tbody tr th:only-of-type {\n",
       "        vertical-align: middle;\n",
       "    }\n",
       "\n",
       "    .dataframe tbody tr th {\n",
       "        vertical-align: top;\n",
       "    }\n",
       "\n",
       "    .dataframe thead th {\n",
       "        text-align: right;\n",
       "    }\n",
       "</style>\n",
       "<table border=\"1\" class=\"dataframe\">\n",
       "  <thead>\n",
       "    <tr style=\"text-align: right;\">\n",
       "      <th></th>\n",
       "      <th>time</th>\n",
       "      <th>0</th>\n",
       "      <th>0.1</th>\n",
       "      <th>0.2</th>\n",
       "      <th>0.3</th>\n",
       "      <th>0.4</th>\n",
       "      <th>0.5</th>\n",
       "      <th>0.6</th>\n",
       "      <th>0.7</th>\n",
       "      <th>0.8</th>\n",
       "      <th>...</th>\n",
       "      <th>0.16374</th>\n",
       "      <th>0.16375</th>\n",
       "      <th>0.16376</th>\n",
       "      <th>0.16377</th>\n",
       "      <th>0.16378</th>\n",
       "      <th>0.16379</th>\n",
       "      <th>0.16380</th>\n",
       "      <th>0.16381</th>\n",
       "      <th>0.16382</th>\n",
       "      <th>0.16383</th>\n",
       "    </tr>\n",
       "  </thead>\n",
       "  <tbody>\n",
       "    <tr>\n",
       "      <th>0</th>\n",
       "      <td>0.0012</td>\n",
       "      <td>0</td>\n",
       "      <td>0</td>\n",
       "      <td>0</td>\n",
       "      <td>0</td>\n",
       "      <td>0</td>\n",
       "      <td>0</td>\n",
       "      <td>0</td>\n",
       "      <td>0</td>\n",
       "      <td>0</td>\n",
       "      <td>...</td>\n",
       "      <td>0</td>\n",
       "      <td>0</td>\n",
       "      <td>0</td>\n",
       "      <td>0</td>\n",
       "      <td>0</td>\n",
       "      <td>0</td>\n",
       "      <td>0</td>\n",
       "      <td>0</td>\n",
       "      <td>0</td>\n",
       "      <td>0</td>\n",
       "    </tr>\n",
       "    <tr>\n",
       "      <th>1</th>\n",
       "      <td>0.0019</td>\n",
       "      <td>0</td>\n",
       "      <td>0</td>\n",
       "      <td>0</td>\n",
       "      <td>0</td>\n",
       "      <td>0</td>\n",
       "      <td>0</td>\n",
       "      <td>0</td>\n",
       "      <td>0</td>\n",
       "      <td>0</td>\n",
       "      <td>...</td>\n",
       "      <td>-508</td>\n",
       "      <td>2034</td>\n",
       "      <td>-1037</td>\n",
       "      <td>-1251</td>\n",
       "      <td>1985</td>\n",
       "      <td>-251</td>\n",
       "      <td>-1794</td>\n",
       "      <td>1602</td>\n",
       "      <td>574</td>\n",
       "      <td>-2053</td>\n",
       "    </tr>\n",
       "    <tr>\n",
       "      <th>2</th>\n",
       "      <td>0.0026</td>\n",
       "      <td>963</td>\n",
       "      <td>1303</td>\n",
       "      <td>-1972</td>\n",
       "      <td>171</td>\n",
       "      <td>1822</td>\n",
       "      <td>-1563</td>\n",
       "      <td>-649</td>\n",
       "      <td>2051</td>\n",
       "      <td>-903</td>\n",
       "      <td>...</td>\n",
       "      <td>870</td>\n",
       "      <td>1378</td>\n",
       "      <td>-1938</td>\n",
       "      <td>68</td>\n",
       "      <td>1866</td>\n",
       "      <td>-1494</td>\n",
       "      <td>-747</td>\n",
       "      <td>2054</td>\n",
       "      <td>-813</td>\n",
       "      <td>-1441</td>\n",
       "    </tr>\n",
       "    <tr>\n",
       "      <th>3</th>\n",
       "      <td>0.0033</td>\n",
       "      <td>1901</td>\n",
       "      <td>-2</td>\n",
       "      <td>-1905</td>\n",
       "      <td>1433</td>\n",
       "      <td>807</td>\n",
       "      <td>-2066</td>\n",
       "      <td>733</td>\n",
       "      <td>1484</td>\n",
       "      <td>-1882</td>\n",
       "      <td>...</td>\n",
       "      <td>1859</td>\n",
       "      <td>101</td>\n",
       "      <td>-1944</td>\n",
       "      <td>1356</td>\n",
       "      <td>898</td>\n",
       "      <td>-2061</td>\n",
       "      <td>637</td>\n",
       "      <td>1553</td>\n",
       "      <td>-1835</td>\n",
       "      <td>-183</td>\n",
       "    </tr>\n",
       "    <tr>\n",
       "      <th>4</th>\n",
       "      <td>0.0041</td>\n",
       "      <td>1958</td>\n",
       "      <td>-1307</td>\n",
       "      <td>-974</td>\n",
       "      <td>2045</td>\n",
       "      <td>-574</td>\n",
       "      <td>-1609</td>\n",
       "      <td>1791</td>\n",
       "      <td>250</td>\n",
       "      <td>-1988</td>\n",
       "      <td>...</td>\n",
       "      <td>1985</td>\n",
       "      <td>-1226</td>\n",
       "      <td>-1062</td>\n",
       "      <td>2032</td>\n",
       "      <td>-474</td>\n",
       "      <td>-1671</td>\n",
       "      <td>1737</td>\n",
       "      <td>350</td>\n",
       "      <td>-2014</td>\n",
       "      <td>1157</td>\n",
       "    </tr>\n",
       "  </tbody>\n",
       "</table>\n",
       "<p>5 rows × 16385 columns</p>\n",
       "</div>"
      ],
      "text/plain": [
       "     time     0   0.1   0.2   0.3   0.4   0.5   0.6   0.7   0.8  ...  0.16374  \\\n",
       "0  0.0012     0     0     0     0     0     0     0     0     0  ...        0   \n",
       "1  0.0019     0     0     0     0     0     0     0     0     0  ...     -508   \n",
       "2  0.0026   963  1303 -1972   171  1822 -1563  -649  2051  -903  ...      870   \n",
       "3  0.0033  1901    -2 -1905  1433   807 -2066   733  1484 -1882  ...     1859   \n",
       "4  0.0041  1958 -1307  -974  2045  -574 -1609  1791   250 -1988  ...     1985   \n",
       "\n",
       "   0.16375  0.16376  0.16377  0.16378  0.16379  0.16380  0.16381  0.16382  \\\n",
       "0        0        0        0        0        0        0        0        0   \n",
       "1     2034    -1037    -1251     1985     -251    -1794     1602      574   \n",
       "2     1378    -1938       68     1866    -1494     -747     2054     -813   \n",
       "3      101    -1944     1356      898    -2061      637     1553    -1835   \n",
       "4    -1226    -1062     2032     -474    -1671     1737      350    -2014   \n",
       "\n",
       "   0.16383  \n",
       "0        0  \n",
       "1    -2053  \n",
       "2    -1441  \n",
       "3     -183  \n",
       "4     1157  \n",
       "\n",
       "[5 rows x 16385 columns]"
      ]
     },
     "execution_count": 20,
     "metadata": {},
     "output_type": "execute_result"
    }
   ],
   "source": [
    "fwd_q_data_times.head()"
   ]
  },
  {
   "cell_type": "code",
   "execution_count": 7,
   "id": "b9f2dc53-4cbe-4c52-847d-15f158032bc6",
   "metadata": {},
   "outputs": [],
   "source": [
    "#trying to plot between 19 and 26 milliseconds\n",
    "# I can just directly plot it by assigning times in between 26 and 19\n",
    "\n",
    "times = np.linspace(0.0019, 0.0026, 16384)\n",
    "fwd_q = fwd_q_data.loc[1].to_numpy()\n",
    "#fwd_q\n",
    "np.save('fwd_q_19', fwd_q)\n",
    "\n",
    "#pg.plot(times[1:500], fwd_q[1:500])\n"
   ]
  },
  {
   "cell_type": "code",
   "execution_count": 8,
   "id": "7efd0d68-4f73-4410-9dcf-2c50149f5500",
   "metadata": {},
   "outputs": [
    {
     "data": {
      "text/plain": [
       "array([    0,     0,     0, ...,  1602,   574, -2053], dtype=int64)"
      ]
     },
     "execution_count": 8,
     "metadata": {},
     "output_type": "execute_result"
    }
   ],
   "source": [
    "a = np.load('fwd_q_19.npy')\n",
    "a"
   ]
  },
  {
   "cell_type": "code",
   "execution_count": 22,
   "id": "e41d124c-adf3-403f-b484-ced4e26f6802",
   "metadata": {},
   "outputs": [
    {
     "data": {
      "text/plain": [
       "2058"
      ]
     },
     "execution_count": 22,
     "metadata": {},
     "output_type": "execute_result"
    }
   ],
   "source": [
    "max(a)"
   ]
  },
  {
   "cell_type": "code",
   "execution_count": 27,
   "id": "fd38197c-d563-47ba-b25c-8d812277fc37",
   "metadata": {},
   "outputs": [
    {
     "data": {
      "text/html": [
       "<div>\n",
       "<style scoped>\n",
       "    .dataframe tbody tr th:only-of-type {\n",
       "        vertical-align: middle;\n",
       "    }\n",
       "\n",
       "    .dataframe tbody tr th {\n",
       "        vertical-align: top;\n",
       "    }\n",
       "\n",
       "    .dataframe thead th {\n",
       "        text-align: right;\n",
       "    }\n",
       "</style>\n",
       "<table border=\"1\" class=\"dataframe\">\n",
       "  <thead>\n",
       "    <tr style=\"text-align: right;\">\n",
       "      <th></th>\n",
       "      <th>0</th>\n",
       "      <th>0.1</th>\n",
       "      <th>0.2</th>\n",
       "      <th>0.3</th>\n",
       "      <th>0.4</th>\n",
       "      <th>0.5</th>\n",
       "      <th>0.6</th>\n",
       "      <th>0.7</th>\n",
       "      <th>0.8</th>\n",
       "      <th>0.9</th>\n",
       "      <th>...</th>\n",
       "      <th>0.16374</th>\n",
       "      <th>0.16375</th>\n",
       "      <th>0.16376</th>\n",
       "      <th>0.16377</th>\n",
       "      <th>0.16378</th>\n",
       "      <th>0.16379</th>\n",
       "      <th>0.16380</th>\n",
       "      <th>0.16381</th>\n",
       "      <th>0.16382</th>\n",
       "      <th>0.16383</th>\n",
       "    </tr>\n",
       "  </thead>\n",
       "  <tbody>\n",
       "    <tr>\n",
       "      <th>0</th>\n",
       "      <td>0</td>\n",
       "      <td>0</td>\n",
       "      <td>0</td>\n",
       "      <td>0</td>\n",
       "      <td>0</td>\n",
       "      <td>0</td>\n",
       "      <td>0</td>\n",
       "      <td>0</td>\n",
       "      <td>0</td>\n",
       "      <td>0</td>\n",
       "      <td>...</td>\n",
       "      <td>0</td>\n",
       "      <td>0</td>\n",
       "      <td>0</td>\n",
       "      <td>0</td>\n",
       "      <td>0</td>\n",
       "      <td>0</td>\n",
       "      <td>0</td>\n",
       "      <td>0</td>\n",
       "      <td>0</td>\n",
       "      <td>0</td>\n",
       "    </tr>\n",
       "    <tr>\n",
       "      <th>1</th>\n",
       "      <td>0</td>\n",
       "      <td>0</td>\n",
       "      <td>0</td>\n",
       "      <td>0</td>\n",
       "      <td>0</td>\n",
       "      <td>0</td>\n",
       "      <td>0</td>\n",
       "      <td>0</td>\n",
       "      <td>0</td>\n",
       "      <td>0</td>\n",
       "      <td>...</td>\n",
       "      <td>1996</td>\n",
       "      <td>-300</td>\n",
       "      <td>-1793</td>\n",
       "      <td>1635</td>\n",
       "      <td>541</td>\n",
       "      <td>-2054</td>\n",
       "      <td>1014</td>\n",
       "      <td>1291</td>\n",
       "      <td>-1984</td>\n",
       "      <td>218</td>\n",
       "    </tr>\n",
       "    <tr>\n",
       "      <th>2</th>\n",
       "      <td>1818</td>\n",
       "      <td>-1595</td>\n",
       "      <td>-623</td>\n",
       "      <td>2052</td>\n",
       "      <td>-956</td>\n",
       "      <td>-1359</td>\n",
       "      <td>1955</td>\n",
       "      <td>-150</td>\n",
       "      <td>-1861</td>\n",
       "      <td>1541</td>\n",
       "      <td>...</td>\n",
       "      <td>1865</td>\n",
       "      <td>-1532</td>\n",
       "      <td>-720</td>\n",
       "      <td>2057</td>\n",
       "      <td>-866</td>\n",
       "      <td>-1434</td>\n",
       "      <td>1919</td>\n",
       "      <td>-48</td>\n",
       "      <td>-1902</td>\n",
       "      <td>1470</td>\n",
       "    </tr>\n",
       "    <tr>\n",
       "      <th>3</th>\n",
       "      <td>782</td>\n",
       "      <td>-2067</td>\n",
       "      <td>786</td>\n",
       "      <td>1478</td>\n",
       "      <td>-1901</td>\n",
       "      <td>-37</td>\n",
       "      <td>1923</td>\n",
       "      <td>-1426</td>\n",
       "      <td>-861</td>\n",
       "      <td>2058</td>\n",
       "      <td>...</td>\n",
       "      <td>876</td>\n",
       "      <td>-2066</td>\n",
       "      <td>690</td>\n",
       "      <td>1548</td>\n",
       "      <td>-1857</td>\n",
       "      <td>-144</td>\n",
       "      <td>1956</td>\n",
       "      <td>-1353</td>\n",
       "      <td>-955</td>\n",
       "      <td>2050</td>\n",
       "    </tr>\n",
       "    <tr>\n",
       "      <th>4</th>\n",
       "      <td>-627</td>\n",
       "      <td>-1604</td>\n",
       "      <td>1815</td>\n",
       "      <td>209</td>\n",
       "      <td>-1988</td>\n",
       "      <td>1286</td>\n",
       "      <td>1012</td>\n",
       "      <td>-2053</td>\n",
       "      <td>545</td>\n",
       "      <td>1642</td>\n",
       "      <td>...</td>\n",
       "      <td>-528</td>\n",
       "      <td>-1668</td>\n",
       "      <td>1764</td>\n",
       "      <td>312</td>\n",
       "      <td>-2011</td>\n",
       "      <td>1205</td>\n",
       "      <td>1101</td>\n",
       "      <td>-2037</td>\n",
       "      <td>445</td>\n",
       "      <td>1702</td>\n",
       "    </tr>\n",
       "    <tr>\n",
       "      <th>5</th>\n",
       "      <td>-1733</td>\n",
       "      <td>-397</td>\n",
       "      <td>2020</td>\n",
       "      <td>-1151</td>\n",
       "      <td>-1175</td>\n",
       "      <td>2013</td>\n",
       "      <td>-380</td>\n",
       "      <td>-1752</td>\n",
       "      <td>1682</td>\n",
       "      <td>462</td>\n",
       "      <td>...</td>\n",
       "      <td>-1677</td>\n",
       "      <td>-499</td>\n",
       "      <td>2037</td>\n",
       "      <td>-1067</td>\n",
       "      <td>-1261</td>\n",
       "      <td>1990</td>\n",
       "      <td>-277</td>\n",
       "      <td>-1805</td>\n",
       "      <td>1621</td>\n",
       "      <td>563</td>\n",
       "    </tr>\n",
       "    <tr>\n",
       "      <th>6</th>\n",
       "      <td>-2056</td>\n",
       "      <td>992</td>\n",
       "      <td>1311</td>\n",
       "      <td>-1977</td>\n",
       "      <td>193</td>\n",
       "      <td>1829</td>\n",
       "      <td>-1581</td>\n",
       "      <td>-647</td>\n",
       "      <td>2053</td>\n",
       "      <td>-936</td>\n",
       "      <td>...</td>\n",
       "      <td>-2065</td>\n",
       "      <td>899</td>\n",
       "      <td>1389</td>\n",
       "      <td>-1945</td>\n",
       "      <td>88</td>\n",
       "      <td>1876</td>\n",
       "      <td>-1514</td>\n",
       "      <td>-744</td>\n",
       "      <td>2058</td>\n",
       "      <td>-842</td>\n",
       "    </tr>\n",
       "  </tbody>\n",
       "</table>\n",
       "<p>7 rows × 16384 columns</p>\n",
       "</div>"
      ],
      "text/plain": [
       "      0   0.1   0.2   0.3   0.4   0.5   0.6   0.7   0.8   0.9  ...  0.16374  \\\n",
       "0     0     0     0     0     0     0     0     0     0     0  ...        0   \n",
       "1     0     0     0     0     0     0     0     0     0     0  ...     1996   \n",
       "2  1818 -1595  -623  2052  -956 -1359  1955  -150 -1861  1541  ...     1865   \n",
       "3   782 -2067   786  1478 -1901   -37  1923 -1426  -861  2058  ...      876   \n",
       "4  -627 -1604  1815   209 -1988  1286  1012 -2053   545  1642  ...     -528   \n",
       "5 -1733  -397  2020 -1151 -1175  2013  -380 -1752  1682   462  ...    -1677   \n",
       "6 -2056   992  1311 -1977   193  1829 -1581  -647  2053  -936  ...    -2065   \n",
       "\n",
       "   0.16375  0.16376  0.16377  0.16378  0.16379  0.16380  0.16381  0.16382  \\\n",
       "0        0        0        0        0        0        0        0        0   \n",
       "1     -300    -1793     1635      541    -2054     1014     1291    -1984   \n",
       "2    -1532     -720     2057     -866    -1434     1919      -48    -1902   \n",
       "3    -2066      690     1548    -1857     -144     1956    -1353     -955   \n",
       "4    -1668     1764      312    -2011     1205     1101    -2037      445   \n",
       "5     -499     2037    -1067    -1261     1990     -277    -1805     1621   \n",
       "6      899     1389    -1945       88     1876    -1514     -744     2058   \n",
       "\n",
       "   0.16383  \n",
       "0        0  \n",
       "1      218  \n",
       "2     1470  \n",
       "3     2050  \n",
       "4     1702  \n",
       "5      563  \n",
       "6     -842  \n",
       "\n",
       "[7 rows x 16384 columns]"
      ]
     },
     "execution_count": 27,
     "metadata": {},
     "output_type": "execute_result"
    }
   ],
   "source": [
    "# #times = np.linspace(0.0019, 0.0026, 16384)\n",
    "# test = float(times[1] - 0.0019)\n",
    "# test\n",
    "\n",
    "fwd_i_data = pd.read_csv(\"fwd_i.csv\")\n",
    "fwd_i_data\n"
   ]
  },
  {
   "cell_type": "code",
   "execution_count": 29,
   "id": "b83a8da9-aa84-4812-b3e7-5253a1284062",
   "metadata": {},
   "outputs": [],
   "source": [
    "fwd_i = fwd_i_data.loc[1].to_numpy()\n",
    "np.save('i_19', fwd_i)\n"
   ]
  },
  {
   "cell_type": "code",
   "execution_count": 56,
   "id": "cc72c4f3-9062-4d79-b014-92a6215007e0",
   "metadata": {},
   "outputs": [],
   "source": [
    "fwd_r = fwd_q*np.cos(2*np.pi*times) + fwd_i*np.sin(2*np.pi*times)\n",
    "fwd_r_fft = scipy.fft.fft(fwd_r)\n",
    "frequencies = scipy.fft.fftfreq(np.size(times), 1/2.34e7)\n",
    "\n",
    "plot = pg.plot(frequencies, abs(fwd_r_fft)).setLogMode(False, True)"
   ]
  },
  {
   "cell_type": "code",
   "execution_count": null,
   "id": "ac71284a-a40b-408c-92a2-709e536e2c6b",
   "metadata": {},
   "outputs": [],
   "source": [
    "from random import randint\n",
    "import pyqtgraph as pg\n",
    "from PyQt5 import QtCore, QtWidgets\n",
    "\n",
    "class MainWindow(QtWidgets.QMainWindow):\n",
    "    def __init__(self):\n",
    "        super().__init__()\n",
    "\n",
    "        # Temperature vs time dynamic plot\n",
    "        self.plot_graph = pg.PlotWidget()\n",
    "        self.setCentralWidget(self.plot_graph)\n",
    "        # self.plot_graph.setBackground(\"w\")\n",
    "        pen = pg.mkPen(color=(255, 0, 0))\n",
    "        # self.plot_graph.setTitle(\"Temperature vs Time\", color=\"b\", size=\"20pt\")\n",
    "        # styles = {\"color\": \"red\", \"font-size\": \"18px\"}\n",
    "        # self.plot_graph.setLabel(\"left\", \"Temperature (°C)\", **styles)\n",
    "        # self.plot_graph.setLabel(\"bottom\", \"Time (min)\", **styles)\n",
    "        # /self.plot_graph.addLegend()\n",
    "        # /self.plot_graph.showGrid(x=True, y=True)\n",
    "        # self.plot_graph.setYRange(20, 40)\n",
    "        self.time = list(range(10))\n",
    "        self.temperature = [randint(20, 40) for _ in range(10)]\n",
    "        # Get a line reference\n",
    "        self.line = self.plot_graph.plot(\n",
    "            self.time,\n",
    "            self.temperature,\n",
    "            name=\"Temperature Sensor\",\n",
    "            pen=pen,\n",
    "            symbol=\"+\",\n",
    "            symbolSize=15,\n",
    "            symbolBrush=\"b\",\n",
    "        )\n",
    "        # Add a timer to simulate new temperature measurements\n",
    "        self.timer = QtCore.QTimer()\n",
    "        self.timer.setInterval(300)\n",
    "        self.timer.timeout.connect(self.update_plot)\n",
    "        self.timer.start()\n",
    "\n",
    "    def update_plot(self):\n",
    "        self.time = self.time[1:]\n",
    "        self.time.append(self.time[-1] + 1)\n",
    "        self.temperature = self.temperature[1:]\n",
    "        self.temperature.append(randint(20, 40))\n",
    "        self.line.setData(self.time, self.temperature)\n",
    "\n",
    "app = QtWidgets.QApplication([])\n",
    "main = MainWindow()\n",
    "main.show()\n",
    "app.exec()"
   ]
  },
  {
   "cell_type": "code",
   "execution_count": 58,
   "id": "f01c333a-1cc2-4f51-934c-d4b58abc86b3",
   "metadata": {},
   "outputs": [],
   "source": [
    "import scipy.io as spio\n",
    "\n",
    "def loadmat(filename):\n",
    "    '''\n",
    "    this function should be called instead of direct spio.loadmat\n",
    "    as it cures the problem of not properly recovering python dictionaries\n",
    "    from mat files. It calls the function check keys to cure all entries\n",
    "    which are still mat-objects\n",
    "    '''\n",
    "    data = spio.loadmat(filename, struct_as_record=False, squeeze_me=True)\n",
    "    return _check_keys(data)\n",
    "\n",
    "def _check_keys(dict):\n",
    "    '''\n",
    "    checks if entries in dictionary are mat-objects. If yes\n",
    "    todict is called to change them to nested dictionaries\n",
    "    '''\n",
    "    for key in dict:\n",
    "        if isinstance(dict[key], spio.matlab.mio5_params.mat_struct):\n",
    "            dict[key] = _todict(dict[key])\n",
    "    return dict        \n",
    "\n",
    "def _todict(matobj):\n",
    "    '''\n",
    "    A recursive function which constructs from matobjects nested dictionaries\n",
    "    '''\n",
    "    dict = {}\n",
    "    for strg in matobj._fieldnames:\n",
    "        elem = matobj.__dict__[strg]\n",
    "        if isinstance(elem, spio.matlab.mio5_params.mat_struct):\n",
    "            dict[strg] = _todict(elem)\n",
    "        else:\n",
    "            dict[strg] = elem\n",
    "    return dict"
   ]
  },
  {
   "cell_type": "code",
   "execution_count": 59,
   "id": "7cff1bf2-af9c-46df-a128-9bb7dfc230af",
   "metadata": {},
   "outputs": [
    {
     "name": "stderr",
     "output_type": "stream",
     "text": [
      "C:\\Users\\a4746\\AppData\\Local\\Temp\\ipykernel_17108\\2967052985.py:19: DeprecationWarning: Please import `mat_struct` from the `scipy.io.matlab` namespace; the `scipy.io.matlab.mio5_params` namespace is deprecated and will be removed in SciPy 2.0.0.\n",
      "  if isinstance(dict[key], spio.matlab.mio5_params.mat_struct):\n"
     ]
    }
   ],
   "source": [
    "fwd_q = loadmat('Fwd_Q.mat')\n"
   ]
  },
  {
   "cell_type": "code",
   "execution_count": 60,
   "id": "8fd510e8-6df8-414c-98c4-7ddb874dd0bc",
   "metadata": {},
   "outputs": [
    {
     "data": {
      "text/plain": [
       "{'__header__': b'MATLAB 5.0 MAT-file, Platform: PCWIN64, Created on: Wed Aug 28 13:06:25 2024',\n",
       " '__version__': '1.0',\n",
       " '__globals__': [],\n",
       " 'None': MatlabOpaque([(b'Fwd_angle', b'MCOS', b'timeseries', array([[3707764736],\n",
       "                      [         2],\n",
       "                      [         1],\n",
       "                      [         1],\n",
       "                      [         1],\n",
       "                      [         5]], dtype=uint32))                       ],\n",
       "              dtype=[('s0', 'O'), ('s1', 'O'), ('s2', 'O'), ('arr', 'O')]),\n",
       " '__function_workspace__': array([[ 0,  1, 73, ...,  0,  0,  0]], dtype=uint8)}"
      ]
     },
     "execution_count": 60,
     "metadata": {},
     "output_type": "execute_result"
    }
   ],
   "source": [
    "fwd_angle"
   ]
  },
  {
   "cell_type": "code",
   "execution_count": 61,
   "id": "f875721d-3b6f-4086-8a36-e573f98fd746",
   "metadata": {},
   "outputs": [
    {
     "data": {
      "text/plain": [
       "dict_keys(['__header__', '__version__', '__globals__', 'None', '__function_workspace__'])"
      ]
     },
     "execution_count": 61,
     "metadata": {},
     "output_type": "execute_result"
    }
   ],
   "source": [
    "fwd_angle.keys()"
   ]
  },
  {
   "cell_type": "code",
   "execution_count": 62,
   "id": "920525bd-7253-4c64-989a-7c7ee1e06745",
   "metadata": {},
   "outputs": [
    {
     "data": {
      "text/plain": [
       "MatlabOpaque([(b'Fwd_angle', b'MCOS', b'timeseries', array([[3707764736],\n",
       "                     [         2],\n",
       "                     [         1],\n",
       "                     [         1],\n",
       "                     [         1],\n",
       "                     [         5]], dtype=uint32))                       ],\n",
       "             dtype=[('s0', 'O'), ('s1', 'O'), ('s2', 'O'), ('arr', 'O')])"
      ]
     },
     "execution_count": 62,
     "metadata": {},
     "output_type": "execute_result"
    }
   ],
   "source": [
    "fwd_angle['None']"
   ]
  },
  {
   "cell_type": "code",
   "execution_count": 63,
   "id": "b5e091f4-6539-4f2e-a17f-fbd3f85bd977",
   "metadata": {},
   "outputs": [
    {
     "ename": "ValueError",
     "evalue": "no field of name timeseries",
     "output_type": "error",
     "traceback": [
      "\u001b[1;31m---------------------------------------------------------------------------\u001b[0m",
      "\u001b[1;31mValueError\u001b[0m                                Traceback (most recent call last)",
      "Cell \u001b[1;32mIn[63], line 1\u001b[0m\n\u001b[1;32m----> 1\u001b[0m fwd_angle[\u001b[38;5;124m'\u001b[39m\u001b[38;5;124mNone\u001b[39m\u001b[38;5;124m'\u001b[39m][\u001b[38;5;241m0\u001b[39m][\u001b[38;5;124m'\u001b[39m\u001b[38;5;124mtimeseries\u001b[39m\u001b[38;5;124m'\u001b[39m]\n",
      "\u001b[1;31mValueError\u001b[0m: no field of name timeseries"
     ]
    }
   ],
   "source": [
    "fwd_angle['None'][0]['timeseries']"
   ]
  },
  {
   "cell_type": "code",
   "execution_count": 64,
   "id": "51567f8a-3a7a-4bb7-bda9-f1626e499103",
   "metadata": {},
   "outputs": [
    {
     "data": {
      "text/plain": [
       "array([[(MatlabOpaque([(b'', b'MCOS', b'timeseries', array([[3707764736],\n",
       "                             [         2],\n",
       "                             [         1],\n",
       "                             [         1],\n",
       "                             [         1],\n",
       "                             [         5]], dtype=uint32))              ],\n",
       "                     dtype=[('s0', 'O'), ('s1', 'O'), ('s2', 'O'), ('arr', 'O')]),)]],\n",
       "      dtype=[('Fwd_I', 'O')])"
      ]
     },
     "execution_count": 64,
     "metadata": {},
     "output_type": "execute_result"
    }
   ],
   "source": [
    "fwd_i['data']"
   ]
  },
  {
   "cell_type": "code",
   "execution_count": 9,
   "id": "a57dbf89-779f-473a-adc8-bcf5b1bb5014",
   "metadata": {},
   "outputs": [
    {
     "data": {
      "text/plain": [
       "(b'Fwd_I', b'MCOS', b'timeseries', array([[3707764736],\n",
       "       [         2],\n",
       "       [         1],\n",
       "       [         1],\n",
       "       [         1],\n",
       "       [         5]], dtype=uint32))"
      ]
     },
     "execution_count": 9,
     "metadata": {},
     "output_type": "execute_result"
    }
   ],
   "source": [
    "fwd_i['None'][0]"
   ]
  },
  {
   "cell_type": "code",
   "execution_count": 10,
   "id": "83046bba-c025-49e5-a7d6-badceb7a3684",
   "metadata": {},
   "outputs": [
    {
     "ename": "NameError",
     "evalue": "name 'fwd_q' is not defined",
     "output_type": "error",
     "traceback": [
      "\u001b[1;31m---------------------------------------------------------------------------\u001b[0m",
      "\u001b[1;31mNameError\u001b[0m                                 Traceback (most recent call last)",
      "Cell \u001b[1;32mIn[10], line 1\u001b[0m\n\u001b[1;32m----> 1\u001b[0m fwd_q[\u001b[38;5;124m\"\u001b[39m\u001b[38;5;124mNone\u001b[39m\u001b[38;5;124m\"\u001b[39m][\u001b[38;5;241m0\u001b[39m][\u001b[38;5;241m0\u001b[39m]\n",
      "\u001b[1;31mNameError\u001b[0m: name 'fwd_q' is not defined"
     ]
    }
   ],
   "source": [
    "fwd_q[\"None\"][0][0]"
   ]
  },
  {
   "cell_type": "code",
   "execution_count": 15,
   "id": "0ba2841c-dbce-48e3-a33e-6e9d68644dac",
   "metadata": {
    "scrolled": true
   },
   "outputs": [
    {
     "ename": "OSError",
     "evalue": "Unable to open file (file signature not found)",
     "output_type": "error",
     "traceback": [
      "\u001b[1;31m---------------------------------------------------------------------------\u001b[0m",
      "\u001b[1;31mOSError\u001b[0m                                   Traceback (most recent call last)",
      "Cell \u001b[1;32mIn[15], line 1\u001b[0m\n\u001b[1;32m----> 1\u001b[0m data \u001b[38;5;241m=\u001b[39m h5py\u001b[38;5;241m.\u001b[39mFile(\u001b[38;5;124m'\u001b[39m\u001b[38;5;124mFwd_I.mat\u001b[39m\u001b[38;5;124m'\u001b[39m, \u001b[38;5;124m'\u001b[39m\u001b[38;5;124mr\u001b[39m\u001b[38;5;124m'\u001b[39m)\n",
      "File \u001b[1;32m~\\AppData\\Local\\anaconda3\\Lib\\site-packages\\h5py\\_hl\\files.py:562\u001b[0m, in \u001b[0;36mFile.__init__\u001b[1;34m(self, name, mode, driver, libver, userblock_size, swmr, rdcc_nslots, rdcc_nbytes, rdcc_w0, track_order, fs_strategy, fs_persist, fs_threshold, fs_page_size, page_buf_size, min_meta_keep, min_raw_keep, locking, alignment_threshold, alignment_interval, meta_block_size, **kwds)\u001b[0m\n\u001b[0;32m    553\u001b[0m     fapl \u001b[38;5;241m=\u001b[39m make_fapl(driver, libver, rdcc_nslots, rdcc_nbytes, rdcc_w0,\n\u001b[0;32m    554\u001b[0m                      locking, page_buf_size, min_meta_keep, min_raw_keep,\n\u001b[0;32m    555\u001b[0m                      alignment_threshold\u001b[38;5;241m=\u001b[39malignment_threshold,\n\u001b[0;32m    556\u001b[0m                      alignment_interval\u001b[38;5;241m=\u001b[39malignment_interval,\n\u001b[0;32m    557\u001b[0m                      meta_block_size\u001b[38;5;241m=\u001b[39mmeta_block_size,\n\u001b[0;32m    558\u001b[0m                      \u001b[38;5;241m*\u001b[39m\u001b[38;5;241m*\u001b[39mkwds)\n\u001b[0;32m    559\u001b[0m     fcpl \u001b[38;5;241m=\u001b[39m make_fcpl(track_order\u001b[38;5;241m=\u001b[39mtrack_order, fs_strategy\u001b[38;5;241m=\u001b[39mfs_strategy,\n\u001b[0;32m    560\u001b[0m                      fs_persist\u001b[38;5;241m=\u001b[39mfs_persist, fs_threshold\u001b[38;5;241m=\u001b[39mfs_threshold,\n\u001b[0;32m    561\u001b[0m                      fs_page_size\u001b[38;5;241m=\u001b[39mfs_page_size)\n\u001b[1;32m--> 562\u001b[0m     fid \u001b[38;5;241m=\u001b[39m make_fid(name, mode, userblock_size, fapl, fcpl, swmr\u001b[38;5;241m=\u001b[39mswmr)\n\u001b[0;32m    564\u001b[0m \u001b[38;5;28;01mif\u001b[39;00m \u001b[38;5;28misinstance\u001b[39m(libver, \u001b[38;5;28mtuple\u001b[39m):\n\u001b[0;32m    565\u001b[0m     \u001b[38;5;28mself\u001b[39m\u001b[38;5;241m.\u001b[39m_libver \u001b[38;5;241m=\u001b[39m libver\n",
      "File \u001b[1;32m~\\AppData\\Local\\anaconda3\\Lib\\site-packages\\h5py\\_hl\\files.py:235\u001b[0m, in \u001b[0;36mmake_fid\u001b[1;34m(name, mode, userblock_size, fapl, fcpl, swmr)\u001b[0m\n\u001b[0;32m    233\u001b[0m     \u001b[38;5;28;01mif\u001b[39;00m swmr \u001b[38;5;129;01mand\u001b[39;00m swmr_support:\n\u001b[0;32m    234\u001b[0m         flags \u001b[38;5;241m|\u001b[39m\u001b[38;5;241m=\u001b[39m h5f\u001b[38;5;241m.\u001b[39mACC_SWMR_READ\n\u001b[1;32m--> 235\u001b[0m     fid \u001b[38;5;241m=\u001b[39m h5f\u001b[38;5;241m.\u001b[39mopen(name, flags, fapl\u001b[38;5;241m=\u001b[39mfapl)\n\u001b[0;32m    236\u001b[0m \u001b[38;5;28;01melif\u001b[39;00m mode \u001b[38;5;241m==\u001b[39m \u001b[38;5;124m'\u001b[39m\u001b[38;5;124mr+\u001b[39m\u001b[38;5;124m'\u001b[39m:\n\u001b[0;32m    237\u001b[0m     fid \u001b[38;5;241m=\u001b[39m h5f\u001b[38;5;241m.\u001b[39mopen(name, h5f\u001b[38;5;241m.\u001b[39mACC_RDWR, fapl\u001b[38;5;241m=\u001b[39mfapl)\n",
      "File \u001b[1;32mh5py\\\\_objects.pyx:54\u001b[0m, in \u001b[0;36mh5py._objects.with_phil.wrapper\u001b[1;34m()\u001b[0m\n",
      "File \u001b[1;32mh5py\\\\_objects.pyx:55\u001b[0m, in \u001b[0;36mh5py._objects.with_phil.wrapper\u001b[1;34m()\u001b[0m\n",
      "File \u001b[1;32mh5py\\\\h5f.pyx:102\u001b[0m, in \u001b[0;36mh5py.h5f.open\u001b[1;34m()\u001b[0m\n",
      "\u001b[1;31mOSError\u001b[0m: Unable to open file (file signature not found)"
     ]
    }
   ],
   "source": [
    "data = h5py.File('Fwd_I.mat', 'r')"
   ]
  },
  {
   "cell_type": "code",
   "execution_count": 16,
   "id": "6f8a784c-f578-4a92-bd3b-72cbcbd47394",
   "metadata": {},
   "outputs": [
    {
     "ename": "ModuleNotFoundError",
     "evalue": "No module named 'matlab'",
     "output_type": "error",
     "traceback": [
      "\u001b[1;31m---------------------------------------------------------------------------\u001b[0m",
      "\u001b[1;31mModuleNotFoundError\u001b[0m                       Traceback (most recent call last)",
      "Cell \u001b[1;32mIn[16], line 1\u001b[0m\n\u001b[1;32m----> 1\u001b[0m \u001b[38;5;28;01mimport\u001b[39;00m \u001b[38;5;21;01mmatlab\u001b[39;00m\u001b[38;5;21;01m.\u001b[39;00m\u001b[38;5;21;01mengine\u001b[39;00m\n\u001b[0;32m      2\u001b[0m mat \u001b[38;5;241m=\u001b[39m matlab\u001b[38;5;241m.\u001b[39mengine\u001b[38;5;241m.\u001b[39mstart_matlab()\n\u001b[0;32m      3\u001b[0m f \u001b[38;5;241m=\u001b[39m mat\u001b[38;5;241m.\u001b[39mload(\u001b[38;5;124m\"\u001b[39m\u001b[38;5;124mFwd_I.mat\u001b[39m\u001b[38;5;124m\"\u001b[39m, nargout\u001b[38;5;241m=\u001b[39m\u001b[38;5;241m1\u001b[39m)\n",
      "\u001b[1;31mModuleNotFoundError\u001b[0m: No module named 'matlab'"
     ]
    }
   ],
   "source": [
    "import matlab.engine\n",
    "mat = matlab.engine.start_matlab()\n",
    "f = mat.load(\"Fwd_I.mat\", nargout=1)"
   ]
  }
 ],
 "metadata": {
  "kernelspec": {
   "display_name": "Python 3 (ipykernel)",
   "language": "python",
   "name": "python3"
  },
  "language_info": {
   "codemirror_mode": {
    "name": "ipython",
    "version": 3
   },
   "file_extension": ".py",
   "mimetype": "text/x-python",
   "name": "python",
   "nbconvert_exporter": "python",
   "pygments_lexer": "ipython3",
   "version": "3.12.4"
  }
 },
 "nbformat": 4,
 "nbformat_minor": 5
}
