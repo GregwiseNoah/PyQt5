{
 "cells": [
  {
   "cell_type": "code",
   "execution_count": 12,
   "id": "d6d0fac8-c70a-4abc-a567-8e2e195a2f09",
   "metadata": {},
   "outputs": [],
   "source": [
    "import scipy.io \n",
    "import matplotlib.pyplot as plt\n",
    "import pandas as pd \n",
    "import numpy as np\n",
    "from scipy.io.matlab import mat_struct\n",
    "import h5py\n",
    "\n",
    "fwd_i = scipy.io.loadmat(\"Fwd_I.mat\")\n",
    "trans_i = scipy.io.loadmat(\"Trans_I.mat\")\n",
    "\n",
    "\n",
    "                \n"
   ]
  },
  {
   "cell_type": "code",
   "execution_count": 58,
   "id": "f01c333a-1cc2-4f51-934c-d4b58abc86b3",
   "metadata": {},
   "outputs": [],
   "source": [
    "import scipy.io as spio\n",
    "\n",
    "def loadmat(filename):\n",
    "    '''\n",
    "    this function should be called instead of direct spio.loadmat\n",
    "    as it cures the problem of not properly recovering python dictionaries\n",
    "    from mat files. It calls the function check keys to cure all entries\n",
    "    which are still mat-objects\n",
    "    '''\n",
    "    data = spio.loadmat(filename, struct_as_record=False, squeeze_me=True)\n",
    "    return _check_keys(data)\n",
    "\n",
    "def _check_keys(dict):\n",
    "    '''\n",
    "    checks if entries in dictionary are mat-objects. If yes\n",
    "    todict is called to change them to nested dictionaries\n",
    "    '''\n",
    "    for key in dict:\n",
    "        if isinstance(dict[key], spio.matlab.mio5_params.mat_struct):\n",
    "            dict[key] = _todict(dict[key])\n",
    "    return dict        \n",
    "\n",
    "def _todict(matobj):\n",
    "    '''\n",
    "    A recursive function which constructs from matobjects nested dictionaries\n",
    "    '''\n",
    "    dict = {}\n",
    "    for strg in matobj._fieldnames:\n",
    "        elem = matobj.__dict__[strg]\n",
    "        if isinstance(elem, spio.matlab.mio5_params.mat_struct):\n",
    "            dict[strg] = _todict(elem)\n",
    "        else:\n",
    "            dict[strg] = elem\n",
    "    return dict"
   ]
  },
  {
   "cell_type": "code",
   "execution_count": 59,
   "id": "7cff1bf2-af9c-46df-a128-9bb7dfc230af",
   "metadata": {},
   "outputs": [
    {
     "name": "stderr",
     "output_type": "stream",
     "text": [
      "C:\\Users\\a4746\\AppData\\Local\\Temp\\ipykernel_17108\\2967052985.py:19: DeprecationWarning: Please import `mat_struct` from the `scipy.io.matlab` namespace; the `scipy.io.matlab.mio5_params` namespace is deprecated and will be removed in SciPy 2.0.0.\n",
      "  if isinstance(dict[key], spio.matlab.mio5_params.mat_struct):\n"
     ]
    }
   ],
   "source": [
    "fwd_q = loadmat('Fwd_Q.mat')\n"
   ]
  },
  {
   "cell_type": "code",
   "execution_count": 60,
   "id": "8fd510e8-6df8-414c-98c4-7ddb874dd0bc",
   "metadata": {},
   "outputs": [
    {
     "data": {
      "text/plain": [
       "{'__header__': b'MATLAB 5.0 MAT-file, Platform: PCWIN64, Created on: Wed Aug 28 13:06:25 2024',\n",
       " '__version__': '1.0',\n",
       " '__globals__': [],\n",
       " 'None': MatlabOpaque([(b'Fwd_angle', b'MCOS', b'timeseries', array([[3707764736],\n",
       "                      [         2],\n",
       "                      [         1],\n",
       "                      [         1],\n",
       "                      [         1],\n",
       "                      [         5]], dtype=uint32))                       ],\n",
       "              dtype=[('s0', 'O'), ('s1', 'O'), ('s2', 'O'), ('arr', 'O')]),\n",
       " '__function_workspace__': array([[ 0,  1, 73, ...,  0,  0,  0]], dtype=uint8)}"
      ]
     },
     "execution_count": 60,
     "metadata": {},
     "output_type": "execute_result"
    }
   ],
   "source": [
    "fwd_angle"
   ]
  },
  {
   "cell_type": "code",
   "execution_count": 61,
   "id": "f875721d-3b6f-4086-8a36-e573f98fd746",
   "metadata": {},
   "outputs": [
    {
     "data": {
      "text/plain": [
       "dict_keys(['__header__', '__version__', '__globals__', 'None', '__function_workspace__'])"
      ]
     },
     "execution_count": 61,
     "metadata": {},
     "output_type": "execute_result"
    }
   ],
   "source": [
    "fwd_angle.keys()"
   ]
  },
  {
   "cell_type": "code",
   "execution_count": 62,
   "id": "920525bd-7253-4c64-989a-7c7ee1e06745",
   "metadata": {},
   "outputs": [
    {
     "data": {
      "text/plain": [
       "MatlabOpaque([(b'Fwd_angle', b'MCOS', b'timeseries', array([[3707764736],\n",
       "                     [         2],\n",
       "                     [         1],\n",
       "                     [         1],\n",
       "                     [         1],\n",
       "                     [         5]], dtype=uint32))                       ],\n",
       "             dtype=[('s0', 'O'), ('s1', 'O'), ('s2', 'O'), ('arr', 'O')])"
      ]
     },
     "execution_count": 62,
     "metadata": {},
     "output_type": "execute_result"
    }
   ],
   "source": [
    "fwd_angle['None']"
   ]
  },
  {
   "cell_type": "code",
   "execution_count": 63,
   "id": "b5e091f4-6539-4f2e-a17f-fbd3f85bd977",
   "metadata": {},
   "outputs": [
    {
     "ename": "ValueError",
     "evalue": "no field of name timeseries",
     "output_type": "error",
     "traceback": [
      "\u001b[1;31m---------------------------------------------------------------------------\u001b[0m",
      "\u001b[1;31mValueError\u001b[0m                                Traceback (most recent call last)",
      "Cell \u001b[1;32mIn[63], line 1\u001b[0m\n\u001b[1;32m----> 1\u001b[0m fwd_angle[\u001b[38;5;124m'\u001b[39m\u001b[38;5;124mNone\u001b[39m\u001b[38;5;124m'\u001b[39m][\u001b[38;5;241m0\u001b[39m][\u001b[38;5;124m'\u001b[39m\u001b[38;5;124mtimeseries\u001b[39m\u001b[38;5;124m'\u001b[39m]\n",
      "\u001b[1;31mValueError\u001b[0m: no field of name timeseries"
     ]
    }
   ],
   "source": [
    "fwd_angle['None'][0]['timeseries']"
   ]
  },
  {
   "cell_type": "code",
   "execution_count": 64,
   "id": "51567f8a-3a7a-4bb7-bda9-f1626e499103",
   "metadata": {},
   "outputs": [
    {
     "data": {
      "text/plain": [
       "array([[(MatlabOpaque([(b'', b'MCOS', b'timeseries', array([[3707764736],\n",
       "                             [         2],\n",
       "                             [         1],\n",
       "                             [         1],\n",
       "                             [         1],\n",
       "                             [         5]], dtype=uint32))              ],\n",
       "                     dtype=[('s0', 'O'), ('s1', 'O'), ('s2', 'O'), ('arr', 'O')]),)]],\n",
       "      dtype=[('Fwd_I', 'O')])"
      ]
     },
     "execution_count": 64,
     "metadata": {},
     "output_type": "execute_result"
    }
   ],
   "source": [
    "fwd_i['data']"
   ]
  },
  {
   "cell_type": "code",
   "execution_count": 9,
   "id": "a57dbf89-779f-473a-adc8-bcf5b1bb5014",
   "metadata": {},
   "outputs": [
    {
     "data": {
      "text/plain": [
       "(b'Fwd_I', b'MCOS', b'timeseries', array([[3707764736],\n",
       "       [         2],\n",
       "       [         1],\n",
       "       [         1],\n",
       "       [         1],\n",
       "       [         5]], dtype=uint32))"
      ]
     },
     "execution_count": 9,
     "metadata": {},
     "output_type": "execute_result"
    }
   ],
   "source": [
    "fwd_i['None'][0]"
   ]
  },
  {
   "cell_type": "code",
   "execution_count": 10,
   "id": "83046bba-c025-49e5-a7d6-badceb7a3684",
   "metadata": {},
   "outputs": [
    {
     "ename": "NameError",
     "evalue": "name 'fwd_q' is not defined",
     "output_type": "error",
     "traceback": [
      "\u001b[1;31m---------------------------------------------------------------------------\u001b[0m",
      "\u001b[1;31mNameError\u001b[0m                                 Traceback (most recent call last)",
      "Cell \u001b[1;32mIn[10], line 1\u001b[0m\n\u001b[1;32m----> 1\u001b[0m fwd_q[\u001b[38;5;124m\"\u001b[39m\u001b[38;5;124mNone\u001b[39m\u001b[38;5;124m\"\u001b[39m][\u001b[38;5;241m0\u001b[39m][\u001b[38;5;241m0\u001b[39m]\n",
      "\u001b[1;31mNameError\u001b[0m: name 'fwd_q' is not defined"
     ]
    }
   ],
   "source": [
    "fwd_q[\"None\"][0][0]"
   ]
  },
  {
   "cell_type": "code",
   "execution_count": 15,
   "id": "0ba2841c-dbce-48e3-a33e-6e9d68644dac",
   "metadata": {
    "scrolled": true
   },
   "outputs": [
    {
     "ename": "OSError",
     "evalue": "Unable to open file (file signature not found)",
     "output_type": "error",
     "traceback": [
      "\u001b[1;31m---------------------------------------------------------------------------\u001b[0m",
      "\u001b[1;31mOSError\u001b[0m                                   Traceback (most recent call last)",
      "Cell \u001b[1;32mIn[15], line 1\u001b[0m\n\u001b[1;32m----> 1\u001b[0m data \u001b[38;5;241m=\u001b[39m h5py\u001b[38;5;241m.\u001b[39mFile(\u001b[38;5;124m'\u001b[39m\u001b[38;5;124mFwd_I.mat\u001b[39m\u001b[38;5;124m'\u001b[39m, \u001b[38;5;124m'\u001b[39m\u001b[38;5;124mr\u001b[39m\u001b[38;5;124m'\u001b[39m)\n",
      "File \u001b[1;32m~\\AppData\\Local\\anaconda3\\Lib\\site-packages\\h5py\\_hl\\files.py:562\u001b[0m, in \u001b[0;36mFile.__init__\u001b[1;34m(self, name, mode, driver, libver, userblock_size, swmr, rdcc_nslots, rdcc_nbytes, rdcc_w0, track_order, fs_strategy, fs_persist, fs_threshold, fs_page_size, page_buf_size, min_meta_keep, min_raw_keep, locking, alignment_threshold, alignment_interval, meta_block_size, **kwds)\u001b[0m\n\u001b[0;32m    553\u001b[0m     fapl \u001b[38;5;241m=\u001b[39m make_fapl(driver, libver, rdcc_nslots, rdcc_nbytes, rdcc_w0,\n\u001b[0;32m    554\u001b[0m                      locking, page_buf_size, min_meta_keep, min_raw_keep,\n\u001b[0;32m    555\u001b[0m                      alignment_threshold\u001b[38;5;241m=\u001b[39malignment_threshold,\n\u001b[0;32m    556\u001b[0m                      alignment_interval\u001b[38;5;241m=\u001b[39malignment_interval,\n\u001b[0;32m    557\u001b[0m                      meta_block_size\u001b[38;5;241m=\u001b[39mmeta_block_size,\n\u001b[0;32m    558\u001b[0m                      \u001b[38;5;241m*\u001b[39m\u001b[38;5;241m*\u001b[39mkwds)\n\u001b[0;32m    559\u001b[0m     fcpl \u001b[38;5;241m=\u001b[39m make_fcpl(track_order\u001b[38;5;241m=\u001b[39mtrack_order, fs_strategy\u001b[38;5;241m=\u001b[39mfs_strategy,\n\u001b[0;32m    560\u001b[0m                      fs_persist\u001b[38;5;241m=\u001b[39mfs_persist, fs_threshold\u001b[38;5;241m=\u001b[39mfs_threshold,\n\u001b[0;32m    561\u001b[0m                      fs_page_size\u001b[38;5;241m=\u001b[39mfs_page_size)\n\u001b[1;32m--> 562\u001b[0m     fid \u001b[38;5;241m=\u001b[39m make_fid(name, mode, userblock_size, fapl, fcpl, swmr\u001b[38;5;241m=\u001b[39mswmr)\n\u001b[0;32m    564\u001b[0m \u001b[38;5;28;01mif\u001b[39;00m \u001b[38;5;28misinstance\u001b[39m(libver, \u001b[38;5;28mtuple\u001b[39m):\n\u001b[0;32m    565\u001b[0m     \u001b[38;5;28mself\u001b[39m\u001b[38;5;241m.\u001b[39m_libver \u001b[38;5;241m=\u001b[39m libver\n",
      "File \u001b[1;32m~\\AppData\\Local\\anaconda3\\Lib\\site-packages\\h5py\\_hl\\files.py:235\u001b[0m, in \u001b[0;36mmake_fid\u001b[1;34m(name, mode, userblock_size, fapl, fcpl, swmr)\u001b[0m\n\u001b[0;32m    233\u001b[0m     \u001b[38;5;28;01mif\u001b[39;00m swmr \u001b[38;5;129;01mand\u001b[39;00m swmr_support:\n\u001b[0;32m    234\u001b[0m         flags \u001b[38;5;241m|\u001b[39m\u001b[38;5;241m=\u001b[39m h5f\u001b[38;5;241m.\u001b[39mACC_SWMR_READ\n\u001b[1;32m--> 235\u001b[0m     fid \u001b[38;5;241m=\u001b[39m h5f\u001b[38;5;241m.\u001b[39mopen(name, flags, fapl\u001b[38;5;241m=\u001b[39mfapl)\n\u001b[0;32m    236\u001b[0m \u001b[38;5;28;01melif\u001b[39;00m mode \u001b[38;5;241m==\u001b[39m \u001b[38;5;124m'\u001b[39m\u001b[38;5;124mr+\u001b[39m\u001b[38;5;124m'\u001b[39m:\n\u001b[0;32m    237\u001b[0m     fid \u001b[38;5;241m=\u001b[39m h5f\u001b[38;5;241m.\u001b[39mopen(name, h5f\u001b[38;5;241m.\u001b[39mACC_RDWR, fapl\u001b[38;5;241m=\u001b[39mfapl)\n",
      "File \u001b[1;32mh5py\\\\_objects.pyx:54\u001b[0m, in \u001b[0;36mh5py._objects.with_phil.wrapper\u001b[1;34m()\u001b[0m\n",
      "File \u001b[1;32mh5py\\\\_objects.pyx:55\u001b[0m, in \u001b[0;36mh5py._objects.with_phil.wrapper\u001b[1;34m()\u001b[0m\n",
      "File \u001b[1;32mh5py\\\\h5f.pyx:102\u001b[0m, in \u001b[0;36mh5py.h5f.open\u001b[1;34m()\u001b[0m\n",
      "\u001b[1;31mOSError\u001b[0m: Unable to open file (file signature not found)"
     ]
    }
   ],
   "source": [
    "data = h5py.File('Fwd_I.mat', 'r')"
   ]
  },
  {
   "cell_type": "code",
   "execution_count": 16,
   "id": "6f8a784c-f578-4a92-bd3b-72cbcbd47394",
   "metadata": {},
   "outputs": [
    {
     "ename": "ModuleNotFoundError",
     "evalue": "No module named 'matlab'",
     "output_type": "error",
     "traceback": [
      "\u001b[1;31m---------------------------------------------------------------------------\u001b[0m",
      "\u001b[1;31mModuleNotFoundError\u001b[0m                       Traceback (most recent call last)",
      "Cell \u001b[1;32mIn[16], line 1\u001b[0m\n\u001b[1;32m----> 1\u001b[0m \u001b[38;5;28;01mimport\u001b[39;00m \u001b[38;5;21;01mmatlab\u001b[39;00m\u001b[38;5;21;01m.\u001b[39;00m\u001b[38;5;21;01mengine\u001b[39;00m\n\u001b[0;32m      2\u001b[0m mat \u001b[38;5;241m=\u001b[39m matlab\u001b[38;5;241m.\u001b[39mengine\u001b[38;5;241m.\u001b[39mstart_matlab()\n\u001b[0;32m      3\u001b[0m f \u001b[38;5;241m=\u001b[39m mat\u001b[38;5;241m.\u001b[39mload(\u001b[38;5;124m\"\u001b[39m\u001b[38;5;124mFwd_I.mat\u001b[39m\u001b[38;5;124m\"\u001b[39m, nargout\u001b[38;5;241m=\u001b[39m\u001b[38;5;241m1\u001b[39m)\n",
      "\u001b[1;31mModuleNotFoundError\u001b[0m: No module named 'matlab'"
     ]
    }
   ],
   "source": [
    "import matlab.engine\n",
    "mat = matlab.engine.start_matlab()\n",
    "f = mat.load(\"Fwd_I.mat\", nargout=1)"
   ]
  }
 ],
 "metadata": {
  "kernelspec": {
   "display_name": "Python 3 (ipykernel)",
   "language": "python",
   "name": "python3"
  },
  "language_info": {
   "codemirror_mode": {
    "name": "ipython",
    "version": 3
   },
   "file_extension": ".py",
   "mimetype": "text/x-python",
   "name": "python",
   "nbconvert_exporter": "python",
   "pygments_lexer": "ipython3",
   "version": "3.12.4"
  }
 },
 "nbformat": 4,
 "nbformat_minor": 5
}
