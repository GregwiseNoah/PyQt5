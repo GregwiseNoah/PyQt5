{
 "cells": [
  {
   "cell_type": "code",
   "execution_count": 26,
   "id": "d6d0fac8-c70a-4abc-a567-8e2e195a2f09",
   "metadata": {},
   "outputs": [],
   "source": [
    "import scipy.io\n",
    "import matplotlib.pyplot as plt\n",
    "import pandas as pd \n",
    "\n",
    "fwd_i = scipy.io.loadmat(\"Fwd_I.mat\")\n",
    "trans_i = scipy.io.loadmat(\"Trans_I.mat\")\n"
   ]
  },
  {
   "cell_type": "code",
   "execution_count": 32,
   "id": "7cff1bf2-af9c-46df-a128-9bb7dfc230af",
   "metadata": {},
   "outputs": [
    {
     "data": {
      "text/plain": [
       "{'__header__': b'MATLAB 5.0 MAT-file, Platform: PCWIN64, Created on: Wed Aug 28 13:05:32 2024',\n",
       " '__version__': '1.0',\n",
       " '__globals__': [],\n",
       " 'None': MatlabOpaque([(b'Fwd_I', b'MCOS', b'timeseries', array([[3707764736],\n",
       "                      [         2],\n",
       "                      [         1],\n",
       "                      [         1],\n",
       "                      [         1],\n",
       "                      [         5]], dtype=uint32))                   ],\n",
       "              dtype=[('s0', 'O'), ('s1', 'O'), ('s2', 'O'), ('arr', 'O')]),\n",
       " '__function_workspace__': array([[ 0,  1, 73, ...,  0,  0,  0]], dtype=uint8)}"
      ]
     },
     "execution_count": 32,
     "metadata": {},
     "output_type": "execute_result"
    }
   ],
   "source": [
    "fwd_i\n"
   ]
  },
  {
   "cell_type": "code",
   "execution_count": 33,
   "id": "8fd510e8-6df8-414c-98c4-7ddb874dd0bc",
   "metadata": {},
   "outputs": [],
   "source": [
    "fwd_angle = scipy.io.loadmat(\"Fwd_angle.mat\")"
   ]
  },
  {
   "cell_type": "code",
   "execution_count": 36,
   "id": "f875721d-3b6f-4086-8a36-e573f98fd746",
   "metadata": {},
   "outputs": [
    {
     "data": {
      "text/plain": [
       "dict_keys(['__header__', '__version__', '__globals__', 'None', '__function_workspace__'])"
      ]
     },
     "execution_count": 36,
     "metadata": {},
     "output_type": "execute_result"
    }
   ],
   "source": [
    "fwd_angle.keys()"
   ]
  },
  {
   "cell_type": "code",
   "execution_count": 53,
   "id": "920525bd-7253-4c64-989a-7c7ee1e06745",
   "metadata": {},
   "outputs": [
    {
     "data": {
      "text/plain": [
       "MatlabOpaque([(b'Fwd_angle', b'MCOS', b'timeseries', array([[3707764736],\n",
       "                     [         2],\n",
       "                     [         1],\n",
       "                     [         1],\n",
       "                     [         1],\n",
       "                     [         5]], dtype=uint32))                       ],\n",
       "             dtype=[('s0', 'O'), ('s1', 'O'), ('s2', 'O'), ('arr', 'O')])"
      ]
     },
     "execution_count": 53,
     "metadata": {},
     "output_type": "execute_result"
    }
   ],
   "source": [
    "fwd_angle['None']"
   ]
  },
  {
   "cell_type": "code",
   "execution_count": null,
   "id": "b5e091f4-6539-4f2e-a17f-fbd3f85bd977",
   "metadata": {},
   "outputs": [],
   "source": [
    "fwd_angle['None'][0]['timeseries']"
   ]
  }
 ],
 "metadata": {
  "kernelspec": {
   "display_name": "Python 3 (ipykernel)",
   "language": "python",
   "name": "python3"
  },
  "language_info": {
   "codemirror_mode": {
    "name": "ipython",
    "version": 3
   },
   "file_extension": ".py",
   "mimetype": "text/x-python",
   "name": "python",
   "nbconvert_exporter": "python",
   "pygments_lexer": "ipython3",
   "version": "3.12.4"
  }
 },
 "nbformat": 4,
 "nbformat_minor": 5
}
